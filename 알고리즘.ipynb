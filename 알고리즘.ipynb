{
  "nbformat": 4,
  "nbformat_minor": 0,
  "metadata": {
    "colab": {
      "name": "알고리즘",
      "provenance": [],
      "collapsed_sections": [],
      "authorship_tag": "ABX9TyPgRNTsef/TUaUvKDOLcefJ",
      "include_colab_link": true
    },
    "kernelspec": {
      "name": "python3",
      "display_name": "Python 3"
    },
    "language_info": {
      "name": "python"
    }
  },
  "cells": [
    {
      "cell_type": "markdown",
      "metadata": {
        "id": "view-in-github",
        "colab_type": "text"
      },
      "source": [
        "<a href=\"https://colab.research.google.com/github/lejihyun/openlab2020/blob/main/%EC%95%8C%EA%B3%A0%EB%A6%AC%EC%A6%98.ipynb\" target=\"_parent\"><img src=\"https://colab.research.google.com/assets/colab-badge.svg\" alt=\"Open In Colab\"/></a>"
      ]
    },
    {
      "cell_type": "markdown",
      "metadata": {
        "id": "6Qe9xuUbqCn0"
      },
      "source": [
        "# 그리디"
      ]
    },
    {
      "cell_type": "markdown",
      "metadata": {
        "id": "Ruol7h5fqM_7"
      },
      "source": [
        "거스름돈"
      ]
    },
    {
      "cell_type": "code",
      "metadata": {
        "colab": {
          "base_uri": "https://localhost:8080/"
        },
        "id": "SKMTjJPYqG-S",
        "outputId": "9a80e2f4-3201-44ac-ed64-b2cb0e696e56"
      },
      "source": [
        "n=1260\n",
        "cnt=0\n",
        "coin_types=[500,100,50,10] # 큰 단위 화폐부터 차례대로\n",
        "\n",
        "for coin in coin_types:\n",
        "  cnt=cnt + n // coin # 해당 화폐로 거슬러 줄 수 있는 동전의 개수\n",
        "  n=n % coin # 해당 금액을 해당 화폐로 거스르고 남는 금액\n",
        "print(cnt) # 사용한 동전 개수"
      ],
      "execution_count": 1,
      "outputs": [
        {
          "output_type": "stream",
          "text": [
            "6\n"
          ],
          "name": "stdout"
        }
      ]
    },
    {
      "cell_type": "markdown",
      "metadata": {
        "id": "c8M3rjSZuXkh"
      },
      "source": [
        "큰 수의 법칙"
      ]
    },
    {
      "cell_type": "code",
      "metadata": {
        "colab": {
          "base_uri": "https://localhost:8080/"
        },
        "id": "kRDUC9PkriUe",
        "outputId": "547c9858-3747-456d-b020-2c6a57b0ad94"
      },
      "source": [
        "# 입력받기\n",
        "n,m,k=map(int,input().split()) # n:배열 크기, m:배열의 수를 m번 더하기, k:연속 저장 횟수\n",
        "data=list(map(int,input().split()))\n",
        "\n",
        "data.sort() # 입력받은 수 정렬\n",
        "first=data[n-1]\n",
        "second=data[n-2]\n",
        "\n",
        "result = 0\n",
        "\n",
        "while 1:\n",
        "  for i in range(k): # 가장 큰 수를 k번 더하기\n",
        "    if m==0: # 만약 m이 0이면 반복문 탈출\n",
        "      break\n",
        "    result=result+first\n",
        "    m=m-1\n",
        "  if m==0:\n",
        "    break\n",
        "  result=result+second\n",
        "  m=m-1\n",
        "print(result)"
      ],
      "execution_count": 6,
      "outputs": [
        {
          "output_type": "stream",
          "text": [
            "7 5 2\n",
            "9 7 5 3 1 8 2\n",
            "44\n"
          ],
          "name": "stdout"
        }
      ]
    },
    {
      "cell_type": "code",
      "metadata": {
        "colab": {
          "base_uri": "https://localhost:8080/"
        },
        "id": "Q0Q7CZ65xg5l",
        "outputId": "a489be97-8a19-482a-a572-e3c09bdfa7f2"
      },
      "source": [
        "# 입력받기\n",
        "n,m,k=map(int,input().split()) # n:배열 크기, m:배열의 수를 m번 더하기, k:연속 저장 횟수\n",
        "data=list(map(int,input().split()))\n",
        "\n",
        "data.sort() # 입력받은 수 정렬\n",
        "first=data[n-1]\n",
        "second=data[n-2]\n",
        "\n",
        "# 가장 큰 수가 더해지는 횟수 계산\n",
        "cnt=int(m/(k+1))*k\n",
        "cnt=cnt + m % (k+1)\n",
        "\n",
        "result=0\n",
        "result=result + cnt * first # 가장 큰 수 더하기\n",
        "result=result + (m-cnt) * second # 두 번째로 큰 수 더하기\n",
        "\n",
        "print(result)\n"
      ],
      "execution_count": 1,
      "outputs": [
        {
          "output_type": "stream",
          "text": [
            "7 5 2\n",
            "9 7 5 3 1 8 2\n",
            "44\n"
          ],
          "name": "stdout"
        }
      ]
    },
    {
      "cell_type": "markdown",
      "metadata": {
        "id": "j0nT0e_SuJpM"
      },
      "source": [
        "숫자 카드 게임"
      ]
    },
    {
      "cell_type": "code",
      "metadata": {
        "colab": {
          "base_uri": "https://localhost:8080/"
        },
        "id": "yUQ7JCprr31x",
        "outputId": "0b38ec3e-1480-44a0-f807-04d3061a352a"
      },
      "source": [
        "n,m=map(int,input().split()) # 행: n, 열: m\n",
        "\n",
        "result=0\n",
        "\n",
        "for i in range(n):\n",
        "  data=list(map(int,input().split())) # 한 줄 씩 입력\n",
        "  min_val=min(data) # 현재 줄에서 제일 작은 값 찾기\n",
        "  result=max(result,min_val) # 가장 작은 수들 중에서 가장 큰 수 찾기\n",
        "\n",
        "print(result)"
      ],
      "execution_count": 3,
      "outputs": [
        {
          "output_type": "stream",
          "text": [
            "3 3\n",
            "3 1 2\n",
            "4 1 4\n",
            "2 2 2\n",
            "2\n"
          ],
          "name": "stdout"
        }
      ]
    },
    {
      "cell_type": "code",
      "metadata": {
        "colab": {
          "base_uri": "https://localhost:8080/"
        },
        "id": "1pcFVF4WwAy8",
        "outputId": "dab6dfef-e627-49bd-b86b-360043b7de42"
      },
      "source": [
        "n,m=map(int,input().split()) # 행: n, 열: m\n",
        "\n",
        "result=0\n",
        "\n",
        "for i in range(n):\n",
        "  data=list(map(int,input().split())) # 입력받기\n",
        "  min_val=100001 \n",
        "  for a in data: # 입력받은 한 행의 데이터\n",
        "    min_val=min(min_val,a) # 한 행의 데이터 중 가장 작은 값을 찾음\n",
        "  result=max(result,min_val) # 각 행의 데이터 중 가장 작은 값들 중에서 가장 큰 값을 찾음\n",
        "\n",
        "print(result)"
      ],
      "execution_count": 5,
      "outputs": [
        {
          "output_type": "stream",
          "text": [
            "3 3\n",
            "3 1 2\n",
            "4 1 4\n",
            "2 2 2\n",
            "2\n"
          ],
          "name": "stdout"
        }
      ]
    },
    {
      "cell_type": "markdown",
      "metadata": {
        "id": "46geItVazNRg"
      },
      "source": [
        "1이 될 때까지"
      ]
    },
    {
      "cell_type": "code",
      "metadata": {
        "colab": {
          "base_uri": "https://localhost:8080/"
        },
        "id": "6xHpcR9ZxoSJ",
        "outputId": "ca783448-6d63-44be-c66f-af8caab188a9"
      },
      "source": [
        "n,k=map(int,input().split())\n",
        "result=0\n",
        "\n",
        "# n이 k이상이라면 k로 계속 나누기\n",
        "while n >= k:\n",
        "\n",
        "  while n % k != 0: # k로 나눠지지 않는다면\n",
        "    n=n-1 # 1을 뺀다\n",
        "    result=result+1\n",
        "\n",
        "  n=n//k # k로 나눠지면 나눈다\n",
        "  result=result+1\n",
        "\n",
        "# 마지막 남은 수 1 빼기  \n",
        "while n > 1:\n",
        "  n=n-1\n",
        "  result=result+1\n",
        "\n",
        "print(result)"
      ],
      "execution_count": 8,
      "outputs": [
        {
          "output_type": "stream",
          "text": [
            "27 5\n",
            "4\n"
          ],
          "name": "stdout"
        }
      ]
    },
    {
      "cell_type": "code",
      "metadata": {
        "colab": {
          "base_uri": "https://localhost:8080/"
        },
        "id": "9IWusJk31eUB",
        "outputId": "1ac94146-7846-4c06-c0df-d3248aa8ed0b"
      },
      "source": [
        "n,k=map(int,input().split())\n",
        "result=0\n",
        "\n",
        "while 1:\n",
        "\n",
        "  # n이 k로 나눠 떨어지는 수가 될 때까지 1빼기\n",
        "  target=(n//k)*k # target은 n이 k로 나눠지는 가장 가까운 수\n",
        "  result=result+(n-target) # result는 1을 뺄 개수\n",
        "  n=target\n",
        "\n",
        "  # n이 k보다 작을 때(더이상 나눌 수 없을 때)\n",
        "  if n<k:\n",
        "    break\n",
        "  \n",
        "  # k로 나누기\n",
        "  result=result+1\n",
        "  n=n//k\n",
        "\n",
        "# 마지막으로 남은 수에 대하여 1씩 빼기\n",
        "result=result+(n-1)\n",
        "print(result)"
      ],
      "execution_count": 9,
      "outputs": [
        {
          "output_type": "stream",
          "text": [
            "32 5\n",
            "5\n"
          ],
          "name": "stdout"
        }
      ]
    },
    {
      "cell_type": "code",
      "metadata": {
        "id": "OtBcgCA09LAA"
      },
      "source": [
        ""
      ],
      "execution_count": null,
      "outputs": []
    }
  ]
}